{
 "cells": [
  {
   "cell_type": "markdown",
   "metadata": {},
   "source": [
    "# __FOLIUM__\n",
    "<hr>\n",
    "\n",
    "##### pip install folium\n",
    "##### Map: OpenStreetMap\n",
    "##### Folium is html by default"
   ]
  },
  {
   "cell_type": "code",
   "execution_count": 1,
   "metadata": {},
   "outputs": [],
   "source": [
    "import numpy as np\n",
    "import pandas as pd\n",
    "import matplotlib.pyplot as plt\n",
    "\n",
    "from wordcloud import WordCloud, ImageColorGenerator\n",
    "from PIL import Image"
   ]
  },
  {
   "cell_type": "code",
   "execution_count": 2,
   "metadata": {},
   "outputs": [],
   "source": [
    "import folium as fo"
   ]
  },
  {
   "cell_type": "markdown",
   "metadata": {},
   "source": [
    "##### if we want to show a location from any places. Open google maps and copy the latitude and the longitude\n",
    "##### For example, Dufan. Its lat and long are @-6.1253124,106.831349 \n",
    "##### With zoom value, 17z"
   ]
  },
  {
   "cell_type": "markdown",
   "metadata": {},
   "source": [
    "### _FOLIUM MARKER_\n",
    "\n",
    "##### tile = 'OpenStreetMap', 'Stamen Terrain'\n",
    "##### zoom_start = zoom value\n",
    "##### popup = when we click the marker, appear a message/detail\n",
    "##### tooltip = when we drag our cursor to the marker, appears a message/detail"
   ]
  },
  {
   "cell_type": "code",
   "execution_count": 3,
   "metadata": {},
   "outputs": [
    {
     "data": {
      "text/html": [
       "<div style=\"width:100%;\"><div style=\"position:relative;width:100%;height:0;padding-bottom:60%;\"><iframe src=\"about:blank\" style=\"position:absolute;width:100%;height:100%;left:0;top:0;border:none !important;\" data-html=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 onload=\"this.contentDocument.open();this.contentDocument.write(atob(this.getAttribute('data-html')));this.contentDocument.close();\" allowfullscreen webkitallowfullscreen mozallowfullscreen></iframe></div></div>"
      ],
      "text/plain": [
       "<folium.folium.Map at 0x1c4ee2b8bb0>"
      ]
     },
     "execution_count": 3,
     "metadata": {},
     "output_type": "execute_result"
    }
   ],
   "source": [
    "dufan = fo.Map(\n",
    "    location = [-6.1253124,106.831349],\n",
    "    tiles = 'Stamen Terrain',\n",
    "    zoom_start = 17)\n",
    "\n",
    "fo.Marker(\n",
    "    [-6.1253124,106.831349],\n",
    "    popup = 'Ini PopUp',\n",
    "    tooltip = 'Ini ToolTip'\n",
    ").add_to(dufan)\n",
    "\n",
    "dufan"
   ]
  },
  {
   "cell_type": "code",
   "execution_count": null,
   "metadata": {},
   "outputs": [],
   "source": [
    "dufan.save('dufan.html')"
   ]
  },
  {
   "cell_type": "markdown",
   "metadata": {},
   "source": [
    "### _FOLIUM CIRCLE_\n",
    "\n",
    "##### location = choose the loc where we want to give circle\n",
    "##### radius = circle radius / r\n",
    "##### color = circle border color\n",
    "##### fill = circle filling (True / False)\n",
    "##### fill_color = circle filling colors\n",
    "##### popup = when we click the circle, appears circle's message/detail"
   ]
  },
  {
   "cell_type": "code",
   "execution_count": null,
   "metadata": {},
   "outputs": [],
   "source": [
    "dufan1 = fo.Map(\n",
    "    location = [-6.1253124,106.831349],\n",
    "    tiles = 'Stamen Terrain',\n",
    "    zoom_start = 17)\n",
    "\n",
    "fo.Marker(\n",
    "    [-6.1253124,106.831349],\n",
    "    popup = '<b>ANCOL</b>',\n",
    "    tooltip = '<i>Click for details</i>',\n",
    "    icon = fo.Icon(color='pink')\n",
    ").add_to(dufan1)\n",
    "\n",
    "fo.Circle(\n",
    "    location = [-6.1253124,106.831349],\n",
    "    radius = 30,\n",
    "    color= 'red',\n",
    "    fill = True,\n",
    "    fill_color = 'orange',\n",
    "    popup = 'circle area'\n",
    ").add_to(dufan1)\n",
    "    \n",
    "\n",
    "fo.Marker(\n",
    "    [-6.1260124,106.831349],\n",
    "    popup = '<b>DEKET ANCOL</b>',\n",
    "    tooltip = '<i>Click for details</i>',\n",
    "    icon = fo.Icon(color='orange')\n",
    ").add_to(dufan1)\n",
    "\n",
    "fo.Marker(\n",
    "    [-6.1270124,106.831349],\n",
    "    popup = '<img width=\"120px\" src=\"https://pm1.narvii.com/6861/2b15375bd0954f28a3794d0ba3d37663df622f26r1-995-750v2_uhq.jpg\" ',\n",
    "    tooltip = '<i>Click for details</i>',\n",
    "    icon = fo.Icon(color='blue')\n",
    ").add_to(dufan1)\n",
    "\n",
    "dufan1.add_child(fo.LatLngPopup())\n",
    "dufan1"
   ]
  },
  {
   "cell_type": "markdown",
   "metadata": {},
   "source": [
    "##### Cause a folium is a html by default we also can give html tag \n",
    "##### add_child(fo.LatLngPopup()) = give latitude and longitude value of an area when we clicked it."
   ]
  },
  {
   "cell_type": "code",
   "execution_count": null,
   "metadata": {},
   "outputs": [],
   "source": []
  }
 ],
 "metadata": {
  "kernelspec": {
   "display_name": "Python 3",
   "language": "python",
   "name": "python3"
  },
  "language_info": {
   "codemirror_mode": {
    "name": "ipython",
    "version": 3
   },
   "file_extension": ".py",
   "mimetype": "text/x-python",
   "name": "python",
   "nbconvert_exporter": "python",
   "pygments_lexer": "ipython3",
   "version": "3.8.1"
  }
 },
 "nbformat": 4,
 "nbformat_minor": 4
}
